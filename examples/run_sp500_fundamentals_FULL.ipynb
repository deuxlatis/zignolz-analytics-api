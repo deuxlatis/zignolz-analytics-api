{
 "cells": [
  {
   "cell_type": "code",
   "execution_count": null,
   "id": "edd34709",
   "metadata": {},
   "outputs": [],
   "source": [
    "%load_ext autoreload\n",
    "%autoreload 2\n",
    "\n",
    "import sys\n",
    "import os\n",
    "\n",
    "sys.path.append(os.path.join(os.getcwd(), \"..\"))\n",
    "\n",
    "from models.sp500.fundamentals import FundamentalStockAnalyzer\n",
    "import logging\n",
    "\n",
    "logging.basicConfig(level=logging.INFO)  # or DEBUG for more detail\n",
    "fas = await FundamentalStockAnalyzer.create()"
   ]
  },
  {
   "cell_type": "code",
   "execution_count": null,
   "id": "ac51ffb9",
   "metadata": {},
   "outputs": [],
   "source": [
    "print(\"=== Processing data from S&P 500 ===\")\n",
    "recommended_stocks = await fas.get_recommended_stocks(max_concurrent=1)\n",
    "\n",
    "print(\"\\n=== Top 10 Recommended Stocks (Best Scores) ===\")\n",
    "for i, stock in enumerate(recommended_stocks[:10], 1):\n",
    "    ticker = stock[\"ticker\"]\n",
    "    name = stock.get(\"shortName\", \"N/A\")\n",
    "    total_score = stock[\"total_score\"]\n",
    "    annual_change_percent = stock.get(\"annualChangePercent\", \"N/A\")\n",
    "    six_month_change_percent = stock.get(\"sixMonthChangePercent\", \"N/A\")\n",
    "    three_month_change_percent = stock.get(\"threeMonthChangePercent\", \"N/A\")\n",
    "    one_month_change_percent = stock.get(\"oneMonthChangePercent\", \"N/A\")\n",
    "    one_week_change_percent = stock.get(\"oneWeekChangePercent\", \"N/A\")\n",
    "\n",
    "    # Show some key financial metrics\n",
    "    operating_cf = stock.get(\"operatingCashflow\", \"N/A\")\n",
    "    profit_margins = stock.get(\"profitMargins\", \"N/A\")\n",
    "    roa = stock.get(\"returnOnAssets\", \"N/A\")\n",
    "    enterprise_value = stock.get(\"enterpriseValue\", \"N/A\")\n",
    "\n",
    "    print(f\"{i:2d}. {ticker} - {name}\")\n",
    "    print(f\"     Total Score: {total_score}\")\n",
    "    print(\n",
    "        f\"     Annual Change: {annual_change_percent}% | 6 Month Change: {six_month_change_percent}% | 3 Month Change: {three_month_change_percent}% | 1 Month Change: {one_month_change_percent}% | 1 Week Change: {one_week_change_percent}%\"\n",
    "    )\n",
    "    print(\n",
    "        f\"     Operating CF: ${operating_cf:,} | Profit Margin: {profit_margins} | ROA: {roa}\"\n",
    "    )\n",
    "    print(f\"     Enterprise Values: ${enterprise_value:,}\")\n",
    "    print()"
   ]
  }
 ],
 "metadata": {
  "kernelspec": {
   "display_name": "zignolz-analytics-api",
   "language": "python",
   "name": "python3"
  },
  "language_info": {
   "codemirror_mode": {
    "name": "ipython",
    "version": 3
   },
   "file_extension": ".py",
   "mimetype": "text/x-python",
   "name": "python",
   "nbconvert_exporter": "python",
   "pygments_lexer": "ipython3",
   "version": "3.13.2"
  }
 },
 "nbformat": 4,
 "nbformat_minor": 5
}
